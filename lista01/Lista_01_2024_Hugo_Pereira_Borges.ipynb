{
  "nbformat": 4,
  "nbformat_minor": 0,
  "metadata": {
    "colab": {
      "provenance": [],
      "toc_visible": true
    },
    "kernelspec": {
      "name": "python3",
      "display_name": "Python 3"
    },
    "language_info": {
      "name": "python"
    }
  },
  "cells": [
    {
      "cell_type": "markdown",
      "source": [
        "Questão 1\n",
        "\n",
        "  Leia (nota1 nota2 nota3)\n",
        "\n",
        "  Média = x , x = ( nota1 + nota2 + nota3 ) / 3\n",
        "    Imprimir (''Media = {x}''\n",
        "  Se x >= 6\n",
        "    Imprima (''APROVADO'')\n",
        "  Se não\n",
        "    Imprima (''REPROVADO'')\n"
      ],
      "metadata": {
        "id": "sFuFYgDoI5Ao"
      }
    },
    {
      "cell_type": "markdown",
      "source": [
        "Questão 2\n",
        "  \n",
        " Leia ( Numero de Testes )\n",
        "\n",
        "  Enquanto x =< Numero de Testes\n",
        "\n",
        "  Leia\n",
        "  Numero de Pessoas(x) Percentagem Popular(x) PercentagemGeral(x) Percentagem  Arquibancada(x) Percentagem Cadeias(x)\n",
        "\n",
        "  Y = Percentagem Popular(x) * Numero de Pessoas(x) *  1,00 + Percentagem  Geral(x) * Numero de Pessoas(x) * 5,00 + Percentagem Arquibancada(x) * Numero de Pessoas(x) * 10,00 + Percentagem Cadeiras(x) * Numero de Pessoas(x) *  20,00\n",
        "\n",
        "\n",
        " Imprima\n",
        "  ''A RENDA DO JOGO N(x) E = y(x)''\n",
        "\n",
        "  x <- x + 1\n",
        "   \n",
        "   \n",
        "  "
      ],
      "metadata": {
        "id": "l0EUePnsORlH"
      }
    },
    {
      "cell_type": "markdown",
      "source": [
        "Questão 3\n",
        "\n",
        " Leia (n1, n2, n3)\n",
        "\n",
        " X = {(n1)(n2)(n3)}\n",
        "\n",
        " Y = {(n1)(n2)(n3)}²\n",
        "\n",
        " Imprima\n",
        "  ''(X), (Y)''\n",
        "\n",
        " Se n1 > 9, n1 < 0 ou n2 > 9, n2 < 0 ou n3 > 9, n3 < 0\n",
        " Imprima\n",
        " ''DIGITO INVALIDO''"
      ],
      "metadata": {
        "id": "10rLwAY7S_AJ"
      }
    },
    {
      "cell_type": "markdown",
      "source": [
        "Questão 4\n",
        "\n",
        "Leia (Salario Minimo)\n",
        "Leia (Quantidade de kW gasta por uma residência)\n",
        "\n",
        "Y = 0.7*(Salario Minimo)\n",
        "\n",
        "Valor em reais de cada kW = Y/100\n",
        "\n",
        "Consumo da residência = (Quantidade de kW gasta por uma residência) * (Valor em reais de cada kW)\n",
        "\n",
        "Valor com Desconto = (Consumo da residência) * 0.9\n",
        "\n",
        "Imprima\n",
        " ''Custo por kW: (Valor em reais de cada kW)''\n",
        " ''Custo do consumo: (Consumo da residência)''\n",
        "\n",
        " ''Custo com desconto: (Valor com Desconto)''"
      ],
      "metadata": {
        "id": "0Q3fcyGyVDHy"
      }
    },
    {
      "cell_type": "markdown",
      "source": [
        "Questão 5\n",
        "\n",
        "Leia\n",
        " (Conta do cliente), (consumo de água), (consumidor)\n",
        "\n",
        "Sendo\n",
        "\n",
        " x = (consumo de água)\n",
        "\n",
        "Se\n",
        "\n",
        "(consumidor) = R\n",
        "\n",
        "Então\n",
        "\n",
        " Y = 5 + 0,05x\n",
        "\n",
        "Se\n",
        "\n",
        "(consumidor) = C\n",
        "\n",
        "Então\n",
        "\n",
        " Y = 500 até x < 80\n",
        "\n",
        "  Se X > 80\n",
        "\n",
        "    Então\n",
        "    \n",
        "    Y = 500 + 0,25x\n",
        "\n",
        "Se\n",
        "\n",
        "(consumidor) = I\n",
        "\n",
        "Então\n",
        "\n",
        " Y = 800 até x < 100\n",
        "\n",
        "  Se X > 100\n",
        "\n",
        "    Então\n",
        "    \n",
        "    Y = 800 + 0,04x\n",
        "\n",
        "Imprima\n",
        " ''CONTA = (Conta do cliente)''\n",
        "Imprima\n",
        " ''VALOR DA CONTA = (Y)''\n",
        "\n",
        "\n",
        "   \n",
        "\n"
      ],
      "metadata": {
        "id": "gFFuPyGoX1Cn"
      }
    },
    {
      "cell_type": "markdown",
      "source": [
        "Questão 6\n",
        "\n",
        " Leia (Numero de Temperaturas)\n",
        "\n",
        " Enquanto {\n",
        "\n",
        "   X =< (Numero de Temperaturas)\n",
        "\n",
        "   Leia\n",
        "     Temperatura em Fahrenheit(X)\n",
        "\n",
        "     C = 5{Temperatura em Fahrenheit(X) - 32 }/9\n",
        "   \n",
        "   Imprima\n",
        "      '' { Temperatura em Fahrenheit(X) } FAHRENHEIT EQUIVALE A (C) CELSIUS ''\n",
        "\n",
        "   X <- X + 1\n",
        " }  \n"
      ],
      "metadata": {
        "id": "5yrto3xe3YSD"
      }
    },
    {
      "cell_type": "markdown",
      "source": [
        "Questão 7\n",
        "\n",
        " Leia ( Fa )\n",
        " Leia ( Po )\n",
        "\n",
        "  X = (5 Fa - 160)/9\n",
        "\n",
        " Y = Po *  25.4\n",
        "  \n",
        "  Imprima\n",
        "  '' O VALOR EM CELSIUS = (X) ''\n",
        "  '' A QUANTIDADE DE CHUVA E = (Y) ''"
      ],
      "metadata": {
        "id": "xZPoJ8kVtWQz"
      }
    },
    {
      "cell_type": "markdown",
      "source": [
        "Questão 8\n",
        "\n",
        " Leia (R)\n",
        " Leia (h)\n",
        "\n",
        "π = 3.14159\n",
        "\n",
        "Ac = π*(R)^2\n",
        "\n",
        "Al = 2*π*(R)*(h)\n",
        "\n",
        "At = 2* Ac + Al\n",
        "\n",
        "X = 100 * At\n",
        "\n",
        " Imprima\n",
        " '' O VALOR DO CUSTO E = (X) ''"
      ],
      "metadata": {
        "id": "Ri6x3byFu3Bs"
      }
    },
    {
      "cell_type": "markdown",
      "source": [
        "Questão 9\n",
        "\n",
        "Leia (A)\n",
        "Leia (B)\n",
        "Leia (C)\n",
        "\n",
        "∆ = (B)^2 - 4*(A)*(C)\n",
        "\n",
        "Imprima\n",
        "'' O VALOR DE DELTA E = (∆) ''"
      ],
      "metadata": {
        "id": "q-OYo28Uwcfy"
      }
    },
    {
      "cell_type": "markdown",
      "source": [
        "Questão 10\n",
        "\n",
        "Leia (a) (b) (c) (d)\n",
        "\n",
        " detM = (a)*(d) - (b)*(c)\n",
        "\n",
        "Imprima\n",
        "'' O VALOR DO DETERMINANTE E = (detM) ''\n",
        "\n",
        "\n"
      ],
      "metadata": {
        "id": "l3uydw46xXFE"
      }
    },
    {
      "cell_type": "markdown",
      "source": [
        "Questão 11\n",
        "\n",
        "Leia (Número)\n",
        "\n",
        " Sendo x ∈ Z\n",
        " Sendo y ∈ Z\n",
        "\n",
        " Se\n",
        "\n",
        "  x = (Número)/3 e y = (Número)/5\n",
        "\n",
        "  Imprima\n",
        "  ''O NUMERO E DIVISIVEL''\n",
        "\n",
        " Se não\n",
        "  \n",
        "  Imprima\n",
        "  ''O NUMERO NAO E DIVISIVEL''\n"
      ],
      "metadata": {
        "id": "1iv7_1YEyfnD"
      }
    },
    {
      "cell_type": "markdown",
      "source": [
        "Questão 12\n",
        "\n",
        "Leia (HorasUsadas)\n",
        "\n",
        " Se\n",
        "\n",
        " x = (HorasUsadas)/3 e x ∈ Z\n",
        "\n",
        " Então {\n",
        "\n",
        " y = 10 * x\n",
        "\n",
        " Imprima\n",
        " '' O VALOR A PAGAR E = (y) ''\n",
        "\n",
        " }\n",
        "\n",
        "  \n"
      ],
      "metadata": {
        "id": "dwqs1F2r1QgY"
      }
    },
    {
      "cell_type": "markdown",
      "source": [
        "Questão 13\n",
        "\n",
        "Leia (Nota)\n",
        "\n",
        "Se\n",
        " 9 <(Nota)< 10\n",
        " Então\n",
        " Imprima\n",
        " ''NOTA = (Nota) CONCEITO = A ''\n",
        "\n",
        "Se\n",
        " 7,5 <(Nota)< 9\n",
        " Então\n",
        " Imprima\n",
        " ''NOTA = (Nota) CONCEITO = B ''\n",
        "\n",
        "Se\n",
        " 6 <(Nota)< 7,5\n",
        " Então\n",
        " Imprima\n",
        "''NOTA = (Nota) CONCEITO = C ''\n",
        "\n",
        "Se\n",
        " 0 <(Nota)< 6\n",
        " Então\n",
        " Imprima\n",
        " ''NOTA = (Nota) CONCEITO = D ''\n",
        "\n"
      ],
      "metadata": {
        "id": "UIpXy7Ej4BJ9"
      }
    },
    {
      "cell_type": "markdown",
      "source": [
        "Questão 14\n",
        "\n",
        "Leia (h) ; (a)\n",
        "\n",
        "Ab = (3 * (a)^2 * √3) / 2\n",
        "\n",
        "v = 1/3 * Ab * (h)\n",
        "\n",
        "Imprima\n",
        "\n",
        " ''O VOLUME DA PIRAMIDE E = (v) METROS CUBICOS''"
      ],
      "metadata": {
        "id": "hn3zR3x25oV1"
      }
    },
    {
      "cell_type": "markdown",
      "source": [
        "Questão 15\n",
        "\n",
        "leia (N) 5 < N < 2000\n",
        "\n",
        "Sendo\n",
        " x = 2\n",
        "\n",
        "Enquanto {\n",
        " x =< (N)\n",
        "\n",
        " y = x^2\n",
        "\n",
        " Imprima\n",
        " ''(x)^2 = (y)''\n",
        "\n",
        " x <- x + 2\n",
        "}\n",
        "\n"
      ],
      "metadata": {
        "id": "Pzsuc5te7JjO"
      }
    },
    {
      "cell_type": "markdown",
      "source": [
        "Questão 16\n",
        "\n",
        "Leia (Salario)\n",
        "\n",
        "Se\n",
        " (Salario) =< 300\n",
        " Então\n",
        "\n",
        " NovoSalario = (Salario) * 1.5\n",
        "\n",
        " Imprima\n",
        " '' SALARIO COM REAJUSTE = (NovoSalario) ''\n",
        "\n",
        "Se\n",
        " (Salario) > 300\n",
        " Então\n",
        "\n",
        " NovoSalario = (Salario) * 1.3\n",
        "\n",
        " Imprima\n",
        " '' SALARIO COM REAJUSTE = (NovoSalario) ''\n"
      ],
      "metadata": {
        "id": "cW3E2aQp9ZBz"
      }
    },
    {
      "cell_type": "markdown",
      "source": [
        "Questão 17\n",
        "\n",
        "Leia (x) ; (y)\n",
        "\n",
        " Se\n",
        "  x ∈ Np'\n",
        "\n",
        " Então\n",
        " A = 0\n",
        "\n",
        " Enquanto\n",
        " A =< (y)\n",
        "\n",
        " Z = (x) + 2*A\n",
        "\n",
        " Imprima\n",
        "  ''(Z)''\n",
        "\n",
        "  A <- A + 1\n",
        "\n",
        "\n"
      ],
      "metadata": {
        "id": "_a-Crccp-e-x"
      }
    },
    {
      "cell_type": "markdown",
      "source": [
        "Questão 18\n",
        "\n",
        "Leia (Vi); (R); (n)\n",
        "\n",
        "Vf = (Vi) + [(n) - 1 ] * (R)\n",
        "\n",
        "Imprima\n",
        "''(Vf) ''"
      ],
      "metadata": {
        "id": "f3skJ98CCA6b"
      }
    },
    {
      "cell_type": "markdown",
      "source": [
        "Questão 19\n",
        "\n",
        "Se n ∈ Z+ e n > 1\n",
        "\n",
        "Leia (n)\n",
        "\n",
        " k = 1\n",
        "\n",
        " S = n{1/k} = 1/1 + 1/2 + 1/3 ... 1/n\n",
        "\n",
        "Imprima\n",
        "''(S)''\n",
        "\n",
        "\n"
      ],
      "metadata": {
        "id": "fR0A5UkrD10O"
      }
    },
    {
      "cell_type": "markdown",
      "source": [
        "Questão 20\n",
        "\n",
        "leia (h); (m); (s)\n",
        "\n",
        "Tempo1 = (h) * 3600\n",
        "Tempo2 = (m) * 60\n",
        "Tempo3 = (s)\n",
        "\n",
        "Total = (Tempo1) + (Tempo2) + (Tempo3)\n",
        "\n",
        "Imprima\n",
        "''O TEMPO EM SEGUNDOS E = (Total) ''"
      ],
      "metadata": {
        "id": "jvhxHJy_F4tf"
      }
    }
  ]
}